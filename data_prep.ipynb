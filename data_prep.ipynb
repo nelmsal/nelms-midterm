{
 "cells": [
  {
   "cell_type": "code",
   "execution_count": 35,
   "metadata": {},
   "outputs": [],
   "source": [
    "import pandas as pd\n",
    "import geopandas as gpd\n",
    "import datetime\n",
    "def dateparse (time_in_secs):    \n",
    "    return datetime.datetime.fromtimestamp(float(time_in_secs))\n",
    "\n",
    "path = 'data/trips.json'\n",
    "trips = gpd.read_file(path)\n",
    "trips['Trip'] = trips['SlideOrder']"
   ]
  },
  {
   "cell_type": "code",
   "execution_count": 71,
   "metadata": {},
   "outputs": [],
   "source": [
    "def get_time(date):\n",
    "    date = str(date)[0:10]\n",
    "    date = pd.Timestamp(int(date), unit='s').strftime('%#m-%#d-%Y')\n",
    "    return date\n",
    "\n",
    "def line_agg(group):\n",
    "    x_list = []\n",
    "    y_list = []\n",
    "    [[\n",
    "        (x_list.append(x), y_list.append(y)) for (x,y) in line.coords\n",
    "    ] for line in group]\n",
    "\n",
    "    x_min, x_max = min(x_list), max(x_list)\n",
    "    y_min, y_max = min(y_list), max(y_list)\n",
    "\n",
    "    bounds = [[x_min, y_min], [x_max, y_max]]\n",
    "\n",
    "    return bounds\n",
    "\n",
    "def first_date(dates):\n",
    "    date = list(dates)[0]\n",
    "    date = get_time(date)\n",
    "\n",
    "    return date\n",
    "\n",
    "bounds = trips.groupby('Trip').agg(\n",
    "    TripName = ('TripName', 'first'),\n",
    "    StartDate = ('Start_Date', first_date),\n",
    "    EndDate = ('End_Date', first_date),\n",
    "    Era = ('Era', 'first'),\n",
    "    bounds = ('geometry', line_agg)\n",
    "    ).reset_index(drop=False)\n",
    "\n",
    "bounds['EraName'] = bounds['TripName'].apply(lambda s: s.split(':')[0])\n",
    "equal_filt = bounds['EraName']!=bounds['TripName']\n",
    "bounds.loc[equal_filt, 'TripName'] = bounds.loc[equal_filt, 'TripName'].apply(lambda s: s.split(':')[1])\n",
    "bounds.loc[bounds['EraName']==bounds['TripName'], 'TripName'] = ''\n",
    "\n",
    "bounds['content'] = ''\n"
   ]
  },
  {
   "cell_type": "code",
   "execution_count": 73,
   "metadata": {},
   "outputs": [],
   "source": [
    "bounds.to_json('data/slides.json', orient='records')"
   ]
  }
 ],
 "metadata": {
  "interpreter": {
   "hash": "63228654793e17782db72918a581a78901f7310c2026cd226e0595001dec4ec9"
  },
  "kernelspec": {
   "display_name": "Python 3.9.9 ('MUSA-611')",
   "language": "python",
   "name": "python3"
  },
  "language_info": {
   "codemirror_mode": {
    "name": "ipython",
    "version": 3
   },
   "file_extension": ".py",
   "mimetype": "text/x-python",
   "name": "python",
   "nbconvert_exporter": "python",
   "pygments_lexer": "ipython3",
   "version": "3.9.9"
  },
  "orig_nbformat": 4
 },
 "nbformat": 4,
 "nbformat_minor": 2
}
